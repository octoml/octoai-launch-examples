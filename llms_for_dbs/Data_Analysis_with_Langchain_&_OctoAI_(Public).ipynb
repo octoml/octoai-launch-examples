{
  "nbformat": 4,
  "nbformat_minor": 0,
  "metadata": {
    "colab": {
      "provenance": []
    },
    "kernelspec": {
      "name": "python3",
      "display_name": "Python 3"
    },
    "language_info": {
      "name": "python"
    }
  },
  "cells": [
    {
      "cell_type": "markdown",
      "source": [
        "# Database Querying and Analysis with Langchain and OctoAI\n",
        "---"
      ],
      "metadata": {
        "id": "JEbE0PFZaoBe"
      }
    },
    {
      "cell_type": "markdown",
      "source": [
        "## Getting Started\n",
        "\n",
        "To work with this notebook locally, you can download the notebook using file/download.\n",
        "\n",
        "## Overview\n",
        "1. Clone and install the `octoml-llm-qa` repo to use OctoAI with Lanchain (next cell)\n",
        "2. Load transactional data into a Dataframe & SQLite DB\n",
        "3. Run a natural-language queries over your dataframe or DB with Lanchain calling an OctoAI-hosted LLM"
      ],
      "metadata": {
        "id": "rVOIW4ikvHBK"
      }
    },
    {
      "cell_type": "markdown",
      "source": [
        "### Setup\n",
        "Install notebook dependencies including Langchain and the OctoAI extension of Lanchain."
      ],
      "metadata": {
        "id": "YGwRannT9kIF"
      }
    },
    {
      "cell_type": "code",
      "source": [
        "from IPython.display import clear_output, Javascript\n",
        "import IPython\n",
        "\n",
        "# Installs a wrapper for Lanchain to call OctoAI LLMs\n",
        "! yes | rm -r octoml-llm-qa\n",
        "! git clone -b db_demo https://github.com/octoml/octoml-llm-qa.git && cd octoml-llm-qa && pip install -e .\n",
        "\n",
        "# Install other useful tools for this demo\n",
        "! pip install gspread oauth2client pandas sqlalchemy\n",
        "\n",
        "clear_output()\n"
      ],
      "metadata": {
        "id": "YJjqgCsTvFOS"
      },
      "execution_count": null,
      "outputs": []
    },
    {
      "cell_type": "code",
      "source": [
        "# Clear output and restarts notebook\n",
        "#IPython.Application.instance().kernel.do_shutdown(True) #automatically restarts kernel\n",
        "\n",
        "from IPython.display import clear_output, Javascript\n",
        "\n",
        "clear_output()\n",
        "print(\"Kernel will automatically restart and load newly installed packages.\")\n",
        "\n",
        "\n",
        "# Function to restart the kernel\n",
        "def restart_kernel():\n",
        "    display(Javascript('Jupyter.notebook.kernel.restart()'))\n",
        "\n",
        "# Call the function to restart the kernel\n",
        "restart_kernel()\n"
      ],
      "metadata": {
        "id": "RbW5ESvPcT2L",
        "colab": {
          "base_uri": "https://localhost:8080/",
          "height": 34
        },
        "outputId": "744d5e32-bc0c-4e96-df2d-5d6635530b31"
      },
      "execution_count": null,
      "outputs": [
        {
          "output_type": "stream",
          "name": "stdout",
          "text": [
            "Kernel will automatically restart and load newly installed packages.\n"
          ]
        },
        {
          "output_type": "display_data",
          "data": {
            "text/plain": [
              "<IPython.core.display.Javascript object>"
            ],
            "application/javascript": [
              "Jupyter.notebook.kernel.restart()"
            ]
          },
          "metadata": {}
        }
      ]
    },
    {
      "cell_type": "markdown",
      "source": [
        "### Kernel Restart  👀❗\n",
        "\n",
        "The kernel must restart for each package to become usable.\n",
        "\n",
        "This will only take a few seconds. Once finished, the cells after this block will run correctly.\n",
        "\n",
        "---\n",
        "\n",
        "\n",
        "\n",
        "\n"
      ],
      "metadata": {
        "id": "i3C_tGHYBFgZ"
      }
    },
    {
      "cell_type": "markdown",
      "source": [
        "# Populate a SQLite DB with dummy transactions data"
      ],
      "metadata": {
        "id": "3seYFuVtfAjf"
      }
    },
    {
      "cell_type": "code",
      "source": [
        "# Load transactional data from Google Sheets\n",
        "SHEETS_URL = \"https://docs.google.com/spreadsheets/d/1WwIQx7f-CNtX-h1wvmMlF_gMlPn4S3mCVmv_VLrLvJo/export?format=csv\"\n",
        "CSV_DATA = \"transactions.csv\"\n",
        "! curl -L $SHEETS_URL -o transactions.csv\n"
      ],
      "metadata": {
        "id": "snuzmuJF_0PH",
        "colab": {
          "base_uri": "https://localhost:8080/"
        },
        "outputId": "bc4312f8-91bf-44e9-c7b4-3e0100eba771"
      },
      "execution_count": null,
      "outputs": [
        {
          "output_type": "stream",
          "name": "stdout",
          "text": [
            "  % Total    % Received % Xferd  Average Speed   Time    Time     Time  Current\n",
            "                                 Dload  Upload   Total   Spent    Left  Speed\n",
            "100   385    0   385    0     0    332      0 --:--:--  0:00:01 --:--:--   332\n",
            "100  4137    0  4137    0     0   2651      0 --:--:--  0:00:01 --:--:--  2651\n"
          ]
        }
      ]
    },
    {
      "cell_type": "code",
      "source": [
        "# Load data into a dataframe and a temporary database\n",
        "import pandas as pd\n",
        "import sqlite3\n",
        "df = pd.read_csv(CSV_DATA)\n",
        "df.head()\n",
        "\n",
        "\n",
        "# Connect to a temporary SQLite database\n",
        "conn = sqlite3.connect('my_database.db')\n",
        "cursor = conn.cursor()\n",
        "\n",
        "\n",
        "# Write the DataFrame to the SQLite database\n",
        "df.to_sql('transactions', conn, if_exists='replace', index=False)\n",
        "\n",
        "# Execute a query to get the list of databases\n",
        "query = \"SELECT name FROM sqlite_master WHERE type='table' AND name NOT LIKE 'sqlite_%';\"\n",
        "cursor.execute(query)\n",
        "\n",
        "# Fetch the results\n",
        "databases = cursor.fetchall()\n",
        "\n",
        "# Print the list of databases\n",
        "for database in databases:\n",
        "    print(database[0])\n",
        "\n"
      ],
      "metadata": {
        "id": "pQJeX1H0B-5o",
        "colab": {
          "base_uri": "https://localhost:8080/"
        },
        "outputId": "3a5f072f-4409-4fa0-ff62-5d9fea6b3307"
      },
      "execution_count": null,
      "outputs": [
        {
          "output_type": "stream",
          "name": "stdout",
          "text": [
            "transactions\n"
          ]
        }
      ]
    },
    {
      "cell_type": "code",
      "source": [
        "# Check our SQL DB connection\n",
        "\n",
        "# Create a cursor object to execute SQL queries\n",
        "conn = sqlite3.connect('my_database.db')\n",
        "cursor = conn.cursor()\n",
        "\n",
        "query = \"PRAGMA table_info(transactions)\"\n",
        "cursor.execute(query)\n",
        "\n",
        "# Fetch the results\n",
        "columns = cursor.fetchall()\n",
        "\n",
        "# Print the column names\n",
        "for column in columns:\n",
        "    print(column[1])\n",
        "\n",
        "# Execute a query\n",
        "query = \"SELECT * FROM transactions\"\n",
        "cursor.execute(query)\n",
        "\n",
        "# Fetch the results\n",
        "results = cursor.fetchall()\n",
        "\n",
        "# Process the results and print 5\n",
        "for row in results[:5]:\n",
        "    print(row)\n",
        "\n",
        "\n",
        "# Close the cursor and connection\n",
        "# Close the cursor and connection\n",
        "cursor.close()\n",
        "conn.close()"
      ],
      "metadata": {
        "id": "if91tewFGB2u",
        "colab": {
          "base_uri": "https://localhost:8080/"
        },
        "outputId": "3c8065b6-a915-4a28-acb4-065ed0596a2f"
      },
      "execution_count": null,
      "outputs": [
        {
          "output_type": "stream",
          "name": "stdout",
          "text": [
            "timestamp\n",
            "product\n",
            "customer\n",
            "quantity\n",
            "price\n",
            "(1664644000, 'Product E', 'Customer 1', 8, 68.52)\n",
            "(1666459000, 'Product A', 'Customer 2', 2, 76.51)\n",
            "(1682529000, 'Product A', 'Customer 5', 7, 67.77)\n",
            "(1678814000, 'Product E', 'Customer 1', 3, 16.87)\n",
            "(1659115000, 'Product D', 'Customer 4', 9, 94.97)\n"
          ]
        }
      ]
    },
    {
      "cell_type": "markdown",
      "source": [
        "### Query Sqlite with an OctoAI LLM & Lanchain's `SQLDatabaseChain`\n",
        "\n",
        "<a href=\"https://octoai.cloud/settings/tokens/add\">Generate a new OctoAI token here </a> and set the `OCTOAI_API_TOKEN=<your-token-here>` environment variable."
      ],
      "metadata": {
        "id": "cNgK3UrrYC4P"
      }
    },
    {
      "cell_type": "code",
      "source": [
        "# Import Lanchain and OctoAI tools\n",
        "from octo_llms import OctoAiCloudLLM\n",
        "from langchain import SQLDatabase, SQLDatabaseChain\n",
        "\n",
        "# Set Token to Use OctoAI\n",
        "%env OCTOAI_API_TOKEN=\n",
        "\n",
        "# Create a new Langchain LLM instance for OctoML with an OctoAI endpoint URL (a public Dolly container)\n",
        "endpoint_url = \"https://dolly-demo-kk0powt97tmb.octoai.cloud/predict\"\n",
        "llm = OctoAiCloudLLM(endpoint_url=endpoint_url)\n",
        "\n",
        "# Connect the Langchain agent to our DB\n",
        "db_conn = \"sqlite:///my_database.db\"\n",
        "db = SQLDatabase.from_uri(db_conn,include_tables=['transactions'])\n",
        "\n"
      ],
      "metadata": {
        "id": "BhNh7alcvlD5",
        "colab": {
          "base_uri": "https://localhost:8080/",
          "height": 374
        },
        "outputId": "39582cc5-6170-49dd-b8a8-8dbbb6c55b9a"
      },
      "execution_count": null,
      "outputs": [
        {
          "output_type": "error",
          "ename": "ModuleNotFoundError",
          "evalue": "ignored",
          "traceback": [
            "\u001b[0;31m---------------------------------------------------------------------------\u001b[0m",
            "\u001b[0;31mModuleNotFoundError\u001b[0m                       Traceback (most recent call last)",
            "\u001b[0;32m<ipython-input-11-d932405bae06>\u001b[0m in \u001b[0;36m<cell line: 2>\u001b[0;34m()\u001b[0m\n\u001b[1;32m      1\u001b[0m \u001b[0;31m# Import Lanchain and OctoAI tools\u001b[0m\u001b[0;34m\u001b[0m\u001b[0;34m\u001b[0m\u001b[0m\n\u001b[0;32m----> 2\u001b[0;31m \u001b[0;32mfrom\u001b[0m \u001b[0mocto_llms\u001b[0m \u001b[0;32mimport\u001b[0m \u001b[0mOctoAiCloudLLM\u001b[0m\u001b[0;34m\u001b[0m\u001b[0;34m\u001b[0m\u001b[0m\n\u001b[0m\u001b[1;32m      3\u001b[0m \u001b[0;32mfrom\u001b[0m \u001b[0mlangchain\u001b[0m \u001b[0;32mimport\u001b[0m \u001b[0mSQLDatabase\u001b[0m\u001b[0;34m,\u001b[0m \u001b[0mSQLDatabaseChain\u001b[0m\u001b[0;34m\u001b[0m\u001b[0;34m\u001b[0m\u001b[0m\n\u001b[1;32m      4\u001b[0m \u001b[0;34m\u001b[0m\u001b[0m\n\u001b[1;32m      5\u001b[0m \u001b[0;31m# Set Token to Use OctoAI\u001b[0m\u001b[0;34m\u001b[0m\u001b[0;34m\u001b[0m\u001b[0m\n",
            "\u001b[0;31mModuleNotFoundError\u001b[0m: No module named 'octo_llms'",
            "",
            "\u001b[0;31m---------------------------------------------------------------------------\u001b[0;32m\nNOTE: If your import is failing due to a missing package, you can\nmanually install dependencies using either !pip or !apt.\n\nTo view examples of installing some common dependencies, click the\n\"Open Examples\" button below.\n\u001b[0;31m---------------------------------------------------------------------------\u001b[0m\n"
          ],
          "errorDetails": {
            "actions": [
              {
                "action": "open_url",
                "actionText": "Open Examples",
                "url": "/notebooks/snippets/importing_libraries.ipynb"
              }
            ]
          }
        }
      ]
    },
    {
      "cell_type": "code",
      "source": [
        "from langchain.prompts.prompt import PromptTemplate\n",
        "\n",
        "# Here, we can do a bit of prompt engineering to improve the quality of our results\n",
        "_DEFAULT_TEMPLATE = \"\"\"Given an input question, think step-by-step for how to first create a syntactically correct {dialect} query to run, then look at the results of the query and return the answer.\n",
        "Use the following format:\n",
        "\n",
        "\n",
        "Question: \"Question here\"\n",
        "SQLQuery: \"SQL Query to run\"\n",
        "SQLResult: \"Result of the SQLQuery\"\n",
        "Answer: \"Final answer here\"\n",
        "\n",
        "Only use the following tables:\n",
        "\n",
        "{table_info}\n",
        "\n",
        "Ignore the following columns:\n",
        "\n",
        "timestamp\n",
        "\n",
        "Question: {input}\"\"\"\n",
        "\n",
        "PROMPT = PromptTemplate(\n",
        "    input_variables=[\"input\", \"table_info\", \"dialect\"], template=_DEFAULT_TEMPLATE\n",
        ")\n",
        "\n",
        "# Defines a wrapper function for the SQLDatabaseChain\n",
        "def query_wrapper(query,max_tries=10):\n",
        "\n",
        "    db_chain = SQLDatabaseChain.from_llm(llm,\n",
        "                                     db,\n",
        "                                     prompt=PROMPT,\n",
        "                                     verbose=True)\n",
        "\n",
        "    # Tries to construct a syntactically valid SQL query until you get it right\n",
        "    while True and max_tries>=1:\n",
        "        max_tries-=1\n",
        "        try:\n",
        "            db_chain(query)\n",
        "            break\n",
        "        except:\n",
        "            continue"
      ],
      "metadata": {
        "id": "PeKkkjFrEPHK"
      },
      "execution_count": null,
      "outputs": []
    },
    {
      "cell_type": "code",
      "source": [
        "# Returns the largest single transaction in the price column\n",
        "max_price_query = \"\"\"What is the largest value in the price column?\"\"\"\n",
        "\n",
        "# Which customer has the most transactions?\n",
        "most_transactions_per_customer=\"\"\"Using the price column, what customer has s\"\"\"\n",
        "\n",
        "# What is the average price of all transactions?\n",
        "average_price_query = \"\"\"What is the average price of all transactions?\"\"\"\n",
        "\n",
        "# Which 2 customers have the most transactions?\n",
        "most_transactions_per_customer_2=\"\"\"Which 2 customers have the most transactions?\"\"\"\n",
        "\n",
        "# Run the query until it returns a dict\n",
        "query_wrapper(max_price_query)"
      ],
      "metadata": {
        "id": "wOS7MRkMHBMU"
      },
      "execution_count": null,
      "outputs": []
    },
    {
      "cell_type": "markdown",
      "source": [
        "### Pandas example - Note: this is much less predictable"
      ],
      "metadata": {
        "id": "SjkzoLnybaLX"
      }
    },
    {
      "cell_type": "code",
      "source": [
        "from langchain.agents import create_pandas_dataframe_agent"
      ],
      "metadata": {
        "id": "OJut3RY1Pwdr"
      },
      "execution_count": null,
      "outputs": []
    },
    {
      "cell_type": "code",
      "source": [
        "# Defines a query function wrapper for a Dataframe\n",
        "def df_llm(query,max_tries=10):\n",
        "    # Flushes DB chain each time\n",
        "    agent = create_pandas_dataframe_agent(OctoAiCloudLLM(endpoint_url=endpoint_url), df, verbose=True)\n",
        "\n",
        "\n",
        "    while True and max_tries>=1:\n",
        "        max_tries-=1\n",
        "        try:\n",
        "            agent.run(query)\n",
        "            break\n",
        "        except:\n",
        "            continue"
      ],
      "metadata": {
        "id": "03N2jItkPy3x"
      },
      "execution_count": null,
      "outputs": []
    },
    {
      "cell_type": "code",
      "source": [
        "df_llm(average_price_query)"
      ],
      "metadata": {
        "id": "PXBB4LtWUiIN"
      },
      "execution_count": null,
      "outputs": []
    },
    {
      "cell_type": "code",
      "source": [],
      "metadata": {
        "id": "7u6fCf-oUpQT"
      },
      "execution_count": null,
      "outputs": []
    }
  ]
}